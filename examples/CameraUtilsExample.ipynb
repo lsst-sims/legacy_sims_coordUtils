{
 "cells": [
  {
   "cell_type": "markdown",
   "metadata": {},
   "source": [
    "This notebook will show how to use the LSST Simulations code which can connect coordinates on the sky (RA, Dec) with coordinates on the LSST camera (pixels).  <b>Note: Before running this notebook, you must install and set up the packages ```obs_lsstSim```, which actually contains the representation of the LSST camera, and ```sims_coordUtils```, which contains the code wrapping obs_lsstSim.  You can get both of these by simply installing and setting up ```lsst_sims```.</b>"
   ]
  },
  {
   "cell_type": "markdown",
   "metadata": {},
   "source": [
    "First, let's import the representation of the LSST Camera and instantiate it."
   ]
  },
  {
   "cell_type": "code",
   "execution_count": null,
   "metadata": {},
   "outputs": [],
   "source": [
    "from __future__ import print_function\n",
    "from lsst.obs.lsstSim import LsstSimMapper\n",
    "camera = LsstSimMapper().camera"
   ]
  },
  {
   "cell_type": "markdown",
   "metadata": {},
   "source": [
    "The global object ```camera``` now contains a representation of the LSST camera.  ```camera``` is a dict-like object containing ```detector``` objects that characterize the CCDs in the LSST focal plane.  They can be iterated over."
   ]
  },
  {
   "cell_type": "code",
   "execution_count": null,
   "metadata": {},
   "outputs": [],
   "source": [
    "from lsst.afw.cameraGeom import DetectorType\n",
    "\n",
    "ccd_type_dict = {}\n",
    "ccd_type_dict[DetectorType.SCIENCE] = 'science'\n",
    "ccd_type_dict[DetectorType.WAVEFRONT] = 'wavefront'\n",
    "ccd_type_dict[DetectorType.GUIDER] = 'guider'\n",
    "ccd_type_dict[DetectorType.FOCUS] = 'focus'\n",
    "\n",
    "for det in camera:\n",
    "    print('%s %s' % (det.getName(), ccd_type_dict[det.getType()]))"
   ]
  },
  {
   "cell_type": "markdown",
   "metadata": {},
   "source": [
    "As you can see above, in addition to containing a grid of pixels, each detector also has a name and a type.  You can refer to detectors by name"
   ]
  },
  {
   "cell_type": "code",
   "execution_count": null,
   "metadata": {},
   "outputs": [],
   "source": [
    "tt = camera['R:0,4 S:1,0'].getType()\n",
    "print(ccd_type_dict[tt])"
   ]
  },
  {
   "cell_type": "markdown",
   "metadata": {},
   "source": [
    "The 'R:X,Y S:I,J' is a way of referring to how the chips are layed out in rafts on the camera.  For more information, see https://confluence.lsstcorp.org/display/LSWUG/Representation+of+a+Camera"
   ]
  },
  {
   "cell_type": "markdown",
   "metadata": {},
   "source": [
    "The functionality of the ```camera``` object is all defined in the package ```afw.cameraGeom```.  Users wishing to interact directly with the ```camera``` object should consult the documentation and examples provided with that package.  The LSST Simulations stack provides methods that allow you to work with ```camera``` without having to call its methods directly.  Those are the subject of this notebook."
   ]
  },
  {
   "cell_type": "markdown",
   "metadata": {},
   "source": [
    "## Finding which chip an object lands on"
   ]
  },
  {
   "cell_type": "markdown",
   "metadata": {},
   "source": [
    "```sims_coordUtils``` provides a method ```chipNameFromRaDec``` which allows you to specify a position on the sky and get back the name of the chip on which that position falls.  In order to use this method, you must first create an ```ObservationMetaData``` characterizing the direction that the telescope is pointing and how it is rotated with respect to the sky."
   ]
  },
  {
   "cell_type": "code",
   "execution_count": null,
   "metadata": {},
   "outputs": [],
   "source": [
    "from lsst.sims.utils import ObservationMetaData\n",
    "obs = ObservationMetaData(pointingRA=123.0, pointingDec=-35.6,\n",
    "                          rotSkyPos=29.0, mjd=59580.0)"
   ]
  },
  {
   "cell_type": "markdown",
   "metadata": {},
   "source": [
    "<b>Note:</b> This cell will raise an ```ErfaWarning```.  This is harmless.  We are asking ```astropy.Time``` to convert between UTC (universal coordinate time) and TAI (international atomic time) in the future (when LSST goes on-sky), which is technically impossible, given that one cannot predict when leap seconds will be added."
   ]
  },
  {
   "cell_type": "code",
   "execution_count": null,
   "metadata": {},
   "outputs": [],
   "source": [
    "import numpy as np\n",
    "from lsst.sims.coordUtils import chipNameFromRaDec\n",
    "chipName = chipNameFromRaDec(121.0, -35.2, \n",
    "                             camera=camera, obs_metadata=obs)\n",
    "print(chipName)"
   ]
  },
  {
   "cell_type": "markdown",
   "metadata": {
    "collapsed": true
   },
   "source": [
    "You can also pass a numpy array of RA, Dec and get back a list of chip names"
   ]
  },
  {
   "cell_type": "code",
   "execution_count": null,
   "metadata": {},
   "outputs": [],
   "source": [
    "chipNameList = chipNameFromRaDec(np.array([121.0, 121.7, 124.0]),\n",
    "                                 np.array([-35.2, -35.1, -34.0]),\n",
    "                                 camera=camera, obs_metadata=obs)\n",
    "print(chipNameList)"
   ]
  },
  {
   "cell_type": "markdown",
   "metadata": {},
   "source": [
    "There are also methods to take (RA, Dec) positions on the sky and transform them into pixel coordinates on the camera.  Note that pixel coordinates are defined on each individual chip (i.e. each chip has its own (0, 0)).  The ```pixelCoordsFromRaDec``` method can accept the kwarg ```chipName``` to specify on which chip you are asking for coordinates.  If you do not specify ```chipName```, the method will take your given (RA, Dec) positions, find the chips they land on, and return the pixel coordinates on those chips."
   ]
  },
  {
   "cell_type": "code",
   "execution_count": null,
   "metadata": {},
   "outputs": [],
   "source": [
    "from lsst.sims.coordUtils import pixelCoordsFromRaDec\n",
    "\n",
    "# first let's just calculate the pixel coordinates on the\n",
    "# chips where the (RA, Dec) points naturally fall.\n",
    "\n",
    "xPix, yPix = pixelCoordsFromRaDec(np.array([121.0, 121.7, 124.0]),\n",
    "                                 np.array([-35.2, -35.1, -34.0]),\n",
    "                                 camera=camera, obs_metadata=obs)\n",
    "\n",
    "for xx, yy in zip(xPix, yPix):\n",
    "    print(xx, yy)"
   ]
  },
  {
   "cell_type": "code",
   "execution_count": null,
   "metadata": {},
   "outputs": [],
   "source": [
    "# Now let us specify a specific chip.  In this case,\n",
    "# pixelCoordsFromRaDec will return the pixel coordinates of\n",
    "# each (RA, Dec) point as if it fell on the R:0,2 S:2,2 chip\n",
    "\n",
    "xPix, yPix = pixelCoordsFromRaDec(np.array([121.0, 121.7, 124.0]),\n",
    "                                  np.array([-35.2, -35.1, -34.0]),\n",
    "                                  chipName='R:0,2 S:2,2',\n",
    "                                  camera=camera, obs_metadata=obs)\n",
    "\n",
    "for xx, yy in zip (xPix, yPix):\n",
    "    print(xx, yy)"
   ]
  },
  {
   "cell_type": "markdown",
   "metadata": {
    "collapsed": true
   },
   "source": [
    "Note that if you have already calculated the names of the chips on which your (RA, Dec) points fall, you can speed up ```pixelCoordsFromRaDec``` by passing those in as a kwarg (that way, ```pixelCoordsFromRaDec``` will not have to duplicate the call to ```chipNameFromRaDec``` that you already made)"
   ]
  },
  {
   "cell_type": "code",
   "execution_count": null,
   "metadata": {},
   "outputs": [],
   "source": [
    "raList = np.array([121.0, 121.7, 124.0])\n",
    "decList = np.array([-35.2, -35.1, -34.0])\n",
    "\n",
    "chipNameList = chipNameFromRaDec(raList, decList,\n",
    "                                 camera=camera, obs_metadata=obs)\n",
    "\n",
    "xPix, yPix = pixelCoordsFromRaDec(raList, decList, chipName=chipNameList,\n",
    "                                 camera=camera, obs_metadata=obs)\n",
    "\n",
    "for xx, yy in zip(xPix, yPix):\n",
    "    print(xx, yy)"
   ]
  },
  {
   "cell_type": "markdown",
   "metadata": {},
   "source": [
    "## Finding the bounds of a chip"
   ]
  },
  {
   "cell_type": "markdown",
   "metadata": {},
   "source": [
    "There are also methods to get the coordinate values (in pixels and in RA, Dec) of a specific chip.  These methods output lists of tuples in which each tuple represents the coordinates of one of the corners of the chip."
   ]
  },
  {
   "cell_type": "code",
   "execution_count": null,
   "metadata": {},
   "outputs": [],
   "source": [
    "from lsst.sims.coordUtils import getCornerPixels, getCornerRaDec\n",
    "\n",
    "cpix = getCornerPixels('R:3,4 S:0,1', camera)\n",
    "print('Corner pixels ',cpix,'\\n')\n",
    "\n",
    "cCoord = getCornerRaDec('R:3,4 S:0,1', camera, obs_metadata=obs)\n",
    "print('Corner (RA, Dec) pairs: ',cCoord)"
   ]
  },
  {
   "cell_type": "markdown",
   "metadata": {},
   "source": [
    "<b>Note:</b> Because of the rotation angle between the camera and the sky, the RA, Dec corner values will not be in any order relative to ```(min, max)```."
   ]
  },
  {
   "cell_type": "code",
   "execution_count": null,
   "metadata": {},
   "outputs": [],
   "source": []
  }
 ],
 "metadata": {
  "kernelspec": {
   "display_name": "Python 3",
   "language": "python",
   "name": "python3"
  },
  "language_info": {
   "codemirror_mode": {
    "name": "ipython",
    "version": 3
   },
   "file_extension": ".py",
   "mimetype": "text/x-python",
   "name": "python",
   "nbconvert_exporter": "python",
   "pygments_lexer": "ipython3",
   "version": "3.7.2"
  }
 },
 "nbformat": 4,
 "nbformat_minor": 1
}
